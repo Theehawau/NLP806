{
 "cells": [
  {
   "cell_type": "markdown",
   "id": "ccba15cc-e216-4c48-928c-ba165655cc9d",
   "metadata": {},
   "source": [
    "# CATT diacritization error"
   ]
  },
  {
   "cell_type": "markdown",
   "id": "728f3bab-6455-4a3f-b55a-00269e2891ed",
   "metadata": {},
   "source": [
    "## Download CATT"
   ]
  },
  {
   "cell_type": "raw",
   "id": "d17c1051-5dc6-4769-a400-7746297e38a3",
   "metadata": {
    "scrolled": true
   },
   "source": [
    "!git clone https://github.com/abjadai/catt.git\n",
    "!mkdir -p catt/models\n",
    "!wget -c -P catt/models https://github.com/abjadai/catt/releases/download/v2/best_ed_mlm_ns_epoch_178.pt\n",
    "!wget -c -P catt/models https://github.com/abjadai/catt/releases/download/v2/best_eo_mlm_ns_epoch_193.pt"
   ]
  },
  {
   "cell_type": "code",
   "execution_count": 1,
   "id": "ea7039d5-6966-402f-8a45-70c743eea129",
   "metadata": {
    "scrolled": true
   },
   "outputs": [
    {
     "name": "stdout",
     "output_type": "stream",
     "text": [
      "/home/auriza.akbar/nlp806-proj/catt\n"
     ]
    },
    {
     "name": "stderr",
     "output_type": "stream",
     "text": [
      "/home/auriza.akbar/.conda/envs/test/lib/python3.10/site-packages/IPython/core/magics/osm.py:417: UserWarning: This is now an optional IPython functionality, setting dhist requires you to install the `pickleshare` library.\n",
      "  self.shell.db['dhist'] = compress_dhist(dhist)[-100:]\n"
     ]
    }
   ],
   "source": [
    "%cd catt"
   ]
  },
  {
   "cell_type": "markdown",
   "id": "b82f5991-f5c6-48bc-b1a8-3e22ddf2f35c",
   "metadata": {},
   "source": [
    "## Load datasets from HF"
   ]
  },
  {
   "cell_type": "raw",
   "id": "7325cc0c-1fee-4de1-88e6-2e068ea6ec3d",
   "metadata": {
    "scrolled": true
   },
   "source": [
    "from datasets import load_dataset\n",
    "\n",
    "clartts = load_dataset(\"MBZUAI/ClArTTS\", streaming=True, columns=[\"text\"])\n",
    "asc = load_dataset(\"herwoww/asc\", streaming=True, columns=[\"transcription\"])\n",
    "mdpc = load_dataset(\"herwoww/mdpc\", streaming=True, columns=[\"transcription\"])\n",
    "\n",
    "text_cla = []\n",
    "text_asc = []\n",
    "text_mdp = []\n",
    "for x in [*clartts['train'], *clartts['test']]:\n",
    "    text_cla.append(x['text'])\n",
    "for x in [*asc['train'], *asc['test']]:\n",
    "    text_asc.append(x['transcription'])\n",
    "for x in [*mdpc['train'], *mdpc['test']]:\n",
    "    text_mdp.append(x['transcription'])"
   ]
  },
  {
   "cell_type": "raw",
   "id": "afe0f946-36ef-4715-8020-6f69eaf88a29",
   "metadata": {},
   "source": [
    "with open(\"../text_cla.txt\", \"w\") as f:\n",
    "    for x in text_cla: f.write(f\"{x}\\n\")\n",
    "with open(\"../text_asc.txt\", \"w\") as f:\n",
    "    for x in text_asc: f.write(f\"{x}\\n\")\n",
    "with open(\"../text_mdp.txt\", \"w\") as f:\n",
    "    for x in text_mdp: f.write(f\"{x}\\n\")"
   ]
  },
  {
   "cell_type": "markdown",
   "id": "51430190-22ed-4ff1-bf6a-e3ce6caf7fc2",
   "metadata": {
    "jp-MarkdownHeadingCollapsed": true
   },
   "source": [
    "## Diacritize with CATT encoder-decoder"
   ]
  },
  {
   "cell_type": "code",
   "execution_count": 2,
   "id": "7bd72ba0-23dd-4b98-a6ed-2022040da921",
   "metadata": {},
   "outputs": [],
   "source": [
    "with open(\"../text_cla.txt\") as f:\n",
    "    text_cla = f.read().splitlines()\n",
    "with open(\"../text_asc.txt\") as f:\n",
    "    text_asc = f.read().splitlines()\n",
    "with open(\"../text_mdp.txt\") as f:\n",
    "    text_mdp = f.read().splitlines()"
   ]
  },
  {
   "cell_type": "code",
   "execution_count": 3,
   "id": "85389850-8f2a-4ff8-845f-2739a2e0eca3",
   "metadata": {
    "scrolled": true
   },
   "outputs": [
    {
     "name": "stdout",
     "output_type": "stream",
     "text": [
      "device: cuda\n"
     ]
    },
    {
     "data": {
      "text/plain": [
       "TashkeelModel(\n",
       "  (transformer): Transformer(\n",
       "    (encoder): Encoder(\n",
       "      (emb): TransformerEmbedding(\n",
       "        (tok_emb): TokenEmbedding(41, 512, padding_idx=0)\n",
       "        (pos_emb): SinusoidalPositionalEncoding()\n",
       "        (drop_out): Dropout(p=0.1, inplace=False)\n",
       "      )\n",
       "      (layers): ModuleList(\n",
       "        (0-2): 3 x EncoderLayer(\n",
       "          (attention): MultiHeadAttention(\n",
       "            (attention): ScaleDotProductAttention(\n",
       "              (softmax): Softmax(dim=-1)\n",
       "            )\n",
       "            (w_q): Linear(in_features=512, out_features=512, bias=False)\n",
       "            (w_k): Linear(in_features=512, out_features=512, bias=False)\n",
       "            (w_v): Linear(in_features=512, out_features=512, bias=False)\n",
       "            (w_concat): Linear(in_features=512, out_features=512, bias=False)\n",
       "          )\n",
       "          (norm1): LayerNorm()\n",
       "          (dropout1): Dropout(p=0.1, inplace=False)\n",
       "          (ffn): PositionwiseFeedForward(\n",
       "            (linear1): Linear(in_features=512, out_features=2048, bias=True)\n",
       "            (linear2): Linear(in_features=2048, out_features=512, bias=True)\n",
       "            (relu): ReLU()\n",
       "            (dropout): Dropout(p=0.1, inplace=False)\n",
       "          )\n",
       "          (norm2): LayerNorm()\n",
       "          (dropout2): Dropout(p=0.1, inplace=False)\n",
       "        )\n",
       "      )\n",
       "    )\n",
       "    (decoder): Decoder(\n",
       "      (emb): TransformerEmbedding(\n",
       "        (tok_emb): TokenEmbedding(18, 512, padding_idx=0)\n",
       "        (pos_emb): SinusoidalPositionalEncoding()\n",
       "        (drop_out): Dropout(p=0.1, inplace=False)\n",
       "      )\n",
       "      (layers): ModuleList(\n",
       "        (0-2): 3 x DecoderLayer(\n",
       "          (self_attention): MultiHeadAttention(\n",
       "            (attention): ScaleDotProductAttention(\n",
       "              (softmax): Softmax(dim=-1)\n",
       "            )\n",
       "            (w_q): Linear(in_features=512, out_features=512, bias=False)\n",
       "            (w_k): Linear(in_features=512, out_features=512, bias=False)\n",
       "            (w_v): Linear(in_features=512, out_features=512, bias=False)\n",
       "            (w_concat): Linear(in_features=512, out_features=512, bias=False)\n",
       "          )\n",
       "          (norm1): LayerNorm()\n",
       "          (dropout1): Dropout(p=0.1, inplace=False)\n",
       "          (enc_dec_attention): MultiHeadAttention(\n",
       "            (attention): ScaleDotProductAttention(\n",
       "              (softmax): Softmax(dim=-1)\n",
       "            )\n",
       "            (w_q): Linear(in_features=512, out_features=512, bias=False)\n",
       "            (w_k): Linear(in_features=512, out_features=512, bias=False)\n",
       "            (w_v): Linear(in_features=512, out_features=512, bias=False)\n",
       "            (w_concat): Linear(in_features=512, out_features=512, bias=False)\n",
       "          )\n",
       "          (norm2): LayerNorm()\n",
       "          (dropout2): Dropout(p=0.1, inplace=False)\n",
       "          (ffn): PositionwiseFeedForward(\n",
       "            (linear1): Linear(in_features=512, out_features=2048, bias=True)\n",
       "            (linear2): Linear(in_features=2048, out_features=512, bias=True)\n",
       "            (relu): ReLU()\n",
       "            (dropout): Dropout(p=0.1, inplace=False)\n",
       "          )\n",
       "          (norm3): LayerNorm()\n",
       "          (dropout3): Dropout(p=0.1, inplace=False)\n",
       "        )\n",
       "      )\n",
       "      (linear): Linear(in_features=512, out_features=18, bias=True)\n",
       "    )\n",
       "  )\n",
       "  (criterion): CrossEntropyLoss()\n",
       ")"
      ]
     },
     "execution_count": 3,
     "metadata": {},
     "output_type": "execute_result"
    }
   ],
   "source": [
    "import torch\n",
    "from ed_pl import TashkeelModel\n",
    "from tashkeel_tokenizer import TashkeelTokenizer\n",
    "from utils import remove_non_arabic\n",
    "\n",
    "tokenizer = TashkeelTokenizer()\n",
    "ckpt_path = 'models/best_ed_mlm_ns_epoch_178.pt'\n",
    "device = 'cuda' if torch.cuda.is_available() else 'cpu'\n",
    "print('device:', device)\n",
    "\n",
    "model = TashkeelModel(tokenizer, max_seq_len=1024, n_layers=3, learnable_pos_emb=False)\n",
    "model.load_state_dict(torch.load(ckpt_path, map_location=device))\n",
    "model.eval().to(device)"
   ]
  },
  {
   "cell_type": "code",
   "execution_count": 4,
   "id": "a019aea4-4c24-4fe4-8157-f0147981823d",
   "metadata": {
    "scrolled": true
   },
   "outputs": [
    {
     "name": "stderr",
     "output_type": "stream",
     "text": [
      "100%|█████████████████████████████████████████| 607/607 [02:29<00:00,  4.05it/s]\n",
      "100%|███████████████████████████████████████████| 63/63 [00:42<00:00,  1.49it/s]\n",
      "100%|███████████████████████████████████████| 4116/4116 [05:03<00:00, 13.58it/s]\n"
     ]
    }
   ],
   "source": [
    "from utils import strip_tashkeel\n",
    "\n",
    "text_cla_ud = [strip_tashkeel(i) for i in text_cla]\n",
    "text_cla_dx = model.do_tashkeel_batch(text_cla_ud)\n",
    "\n",
    "text_asc_ud = [strip_tashkeel(i) for i in text_asc]\n",
    "text_asc_dx = model.do_tashkeel_batch(text_asc_ud)\n",
    "\n",
    "text_mdp_ud = [strip_tashkeel(i) for i in text_mdp]\n",
    "text_mdp_dx = model.do_tashkeel_batch(text_mdp_ud)"
   ]
  },
  {
   "cell_type": "code",
   "execution_count": 5,
   "id": "c1fcf2fc-7c8b-4ea6-858c-9b14b61f6943",
   "metadata": {},
   "outputs": [],
   "source": [
    "with open(\"../catt_cla.txt\", \"w\") as f:\n",
    "    for x in text_cla_dx: f.write(f\"{x}\\n\")\n",
    "with open(\"../catt_asc.txt\", \"w\") as f:\n",
    "    for x in text_asc_dx: f.write(f\"{x}\\n\")\n",
    "with open(\"../catt_mdp.txt\", \"w\") as f:\n",
    "    for x in text_mdp_dx: f.write(f\"{x}\\n\")"
   ]
  },
  {
   "cell_type": "markdown",
   "id": "d18f5dfd-25a3-4e34-9c72-dab5b07beee5",
   "metadata": {},
   "source": [
    "## Compute DER"
   ]
  },
  {
   "cell_type": "code",
   "execution_count": 14,
   "id": "ac9dc2d9-a3e6-48ee-92ef-f3f47560c05f",
   "metadata": {
    "scrolled": true
   },
   "outputs": [
    {
     "name": "stdout",
     "output_type": "stream",
     "text": [
      "ClArTTS\n",
      "Total DER: %2.053\n",
      "Total WER: %7.926\n",
      "Total mismatch samples: 0\n",
      "-----------------------------------------------------------------------------------------\n",
      "Total DER: %3.261\n",
      "Total WER: %12.671\n",
      "Total mismatch samples: 0\n",
      "-----------------------------------------------------------------------------------------\n",
      "ASC\n",
      "Total DER: %3.442\n",
      "Total WER: %14.843\n",
      "Total mismatch samples: 1\n",
      "-----------------------------------------------------------------------------------------\n",
      "Total DER: %5.174\n",
      "Total WER: %21.745\n",
      "Total mismatch samples: 1\n",
      "-----------------------------------------------------------------------------------------\n",
      "MDPC\n",
      "Total DER: %26.084\n",
      "Total WER: %78.807\n",
      "Total mismatch samples: 0\n",
      "-----------------------------------------------------------------------------------------\n",
      "Total DER: %31.294\n",
      "Total WER: %87.761\n",
      "Total mismatch samples: 0\n",
      "-----------------------------------------------------------------------------------------\n"
     ]
    }
   ],
   "source": [
    "%%bash\n",
    "echo ClArTTS\n",
    "python compute_der.py ../text_cla.txt ../catt_cla.txt no\n",
    "python compute_der.py ../text_cla.txt ../catt_cla.txt yes\n",
    "echo ASC\n",
    "python compute_der.py ../text_asc.txt ../catt_asc.txt no\n",
    "python compute_der.py ../text_asc.txt ../catt_asc.txt yes\n",
    "echo MDPC\n",
    "python compute_der.py ../text_mdp.txt ../catt_mdp.txt no\n",
    "python compute_der.py ../text_mdp.txt ../catt_mdp.txt yes"
   ]
  },
  {
   "cell_type": "markdown",
   "id": "909a07f4-7f79-4584-affa-f884ceeb0234",
   "metadata": {},
   "source": [
    "## Results\n",
    "\n",
    "| Dataset | DER-NoCE | WER-NoCE | DER-CE | WER-CE |\n",
    "|---------|----------|----------|--------|--------|\n",
    "| ClArTTS | 2.05     | 7.93     | 3.26   | 12.67  |\n",
    "| ASC     | 3.44     | 14.84    | 5.17   | 21.75  |\n",
    "| MDPC    | 26.08    | 78.81    | 31.29  | 87.76  |"
   ]
  }
 ],
 "metadata": {
  "kernelspec": {
   "display_name": "Python 3 (ipykernel)",
   "language": "python",
   "name": "python3"
  },
  "language_info": {
   "codemirror_mode": {
    "name": "ipython",
    "version": 3
   },
   "file_extension": ".py",
   "mimetype": "text/x-python",
   "name": "python",
   "nbconvert_exporter": "python",
   "pygments_lexer": "ipython3",
   "version": "3.10.16"
  }
 },
 "nbformat": 4,
 "nbformat_minor": 5
}
