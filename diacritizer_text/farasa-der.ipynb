{
 "cells": [
  {
   "cell_type": "markdown",
   "id": "522e6875-2f90-422c-bc7c-78de09d9b7ea",
   "metadata": {},
   "source": [
    "# Farasa diacritization error"
   ]
  },
  {
   "cell_type": "markdown",
   "id": "714e316c-07e5-4367-9c49-d78cc0073bbc",
   "metadata": {},
   "source": [
    "## Undiacritize the dataset"
   ]
  },
  {
   "cell_type": "code",
   "execution_count": 2,
   "id": "d4fea213-0180-48a4-8e1d-d2be0a04bf81",
   "metadata": {},
   "outputs": [],
   "source": [
    "with open(\"text_cla.txt\") as f:\n",
    "    text_cla = f.read().splitlines()\n",
    "with open(\"text_asc.txt\") as f:\n",
    "    text_asc = f.read().splitlines()\n",
    "with open(\"text_mdp.txt\") as f:\n",
    "    text_mdp = f.read().splitlines()"
   ]
  },
  {
   "cell_type": "code",
   "execution_count": 11,
   "id": "fd4222b7-a536-4f90-8784-f643a936566d",
   "metadata": {
    "scrolled": true
   },
   "outputs": [
    {
     "name": "stdout",
     "output_type": "stream",
     "text": [
      "[Errno 2] No such file or directory: 'catt'\n",
      "/home/auriza.akbar/nlp806-proj/catt\n",
      "/home/auriza.akbar/nlp806-proj\n"
     ]
    }
   ],
   "source": [
    "%cd catt\n",
    "from utils import strip_tashkeel\n",
    "\n",
    "undiac_cla = [strip_tashkeel(i) for i in text_cla]\n",
    "undiac_asc = [strip_tashkeel(i) for i in text_asc]\n",
    "undiac_mdp = [strip_tashkeel(i) for i in text_mdp]\n",
    "%cd .."
   ]
  },
  {
   "cell_type": "code",
   "execution_count": 12,
   "id": "16f6ae00-5d20-4aae-9319-7f71095f9bc4",
   "metadata": {},
   "outputs": [],
   "source": [
    "with open(\"undiac_cla.txt\", \"w\") as f:\n",
    "    for x in undiac_cla: f.write(f\"{x}\\n\")\n",
    "with open(\"undiac_asc.txt\", \"w\") as f:\n",
    "    for x in undiac_asc: f.write(f\"{x}\\n\")\n",
    "with open(\"undiac_mdp.txt\", \"w\") as f:\n",
    "    for x in undiac_mdp: f.write(f\"{x}\\n\")"
   ]
  },
  {
   "cell_type": "markdown",
   "id": "c7754d8e-39e0-489d-b705-eba66d7e6a18",
   "metadata": {},
   "source": [
    "## Diacritize with Farasa"
   ]
  },
  {
   "cell_type": "code",
   "execution_count": 16,
   "id": "04935b1e-6112-441d-8d6d-e05a65aeef86",
   "metadata": {},
   "outputs": [
    {
     "name": "stderr",
     "output_type": "stream",
     "text": [
      "Initializing the system ....\n",
      "System ready!               \n",
      "Initializing the system ....\n",
      "System ready!               \n",
      "Initializing the system ....\n",
      "System ready!               \n"
     ]
    }
   ],
   "source": [
    "%%bash\n",
    "java -jar farasa/FarasaDiacritizeJar.jar -i undiac_cla.txt -o farasa_cla.txt\n",
    "java -jar farasa/FarasaDiacritizeJar.jar -i undiac_asc.txt -o farasa_asc.txt\n",
    "java -jar farasa/FarasaDiacritizeJar.jar -i undiac_mdp.txt -o farasa_mdp.txt"
   ]
  },
  {
   "cell_type": "markdown",
   "id": "b7952626-8391-4824-869d-c25de8f14424",
   "metadata": {},
   "source": [
    "## Calculate DER"
   ]
  },
  {
   "cell_type": "code",
   "execution_count": 18,
   "id": "2e539bae-38c8-4e99-914f-ed2a33af663d",
   "metadata": {
    "scrolled": true
   },
   "outputs": [
    {
     "name": "stdout",
     "output_type": "stream",
     "text": [
      "ClArTTS\n",
      "Total DER: %14.502\n",
      "Total WER: %58.116\n",
      "Total mismatch samples: 29\n",
      "-----------------------------------------------------------------------------------------\n",
      "Total DER: %16.550\n",
      "Total WER: %62.850\n",
      "Total mismatch samples: 29\n",
      "-----------------------------------------------------------------------------------------\n",
      "ASC\n",
      "Total DER: %18.744\n",
      "Total WER: %67.583\n",
      "Total mismatch samples: 1\n",
      "-----------------------------------------------------------------------------------------\n",
      "Total DER: %21.400\n",
      "Total WER: %72.480\n",
      "Total mismatch samples: 1\n",
      "-----------------------------------------------------------------------------------------\n",
      "MDPC\n",
      "Total DER: %32.562\n",
      "Total WER: %93.131\n",
      "Total mismatch samples: 40\n",
      "-----------------------------------------------------------------------------------------\n",
      "Total DER: %37.864\n",
      "Total WER: %98.066\n",
      "Total mismatch samples: 40\n",
      "-----------------------------------------------------------------------------------------\n"
     ]
    }
   ],
   "source": [
    "%%bash\n",
    "echo ClArTTS\n",
    "python catt/compute_der.py text_cla.txt farasa_cla.txt no\n",
    "python catt/compute_der.py text_cla.txt farasa_cla.txt yes\n",
    "echo ASC\n",
    "python catt/compute_der.py text_asc.txt farasa_asc.txt no\n",
    "python catt/compute_der.py text_asc.txt farasa_asc.txt yes\n",
    "echo MDPC\n",
    "python catt/compute_der.py text_mdp.txt farasa_mdp.txt no\n",
    "python catt/compute_der.py text_mdp.txt farasa_mdp.txt yes"
   ]
  },
  {
   "cell_type": "markdown",
   "id": "823a0116-1504-47d8-bfe1-3bd5c90ab757",
   "metadata": {},
   "source": [
    "## Results\n",
    "\n",
    "| Dataset | DER-NoCE | WER-NoCE | DER-CE | WER-CE |\n",
    "|---------|----------|----------|--------|--------|\n",
    "| ClArTTS | 14.50    | 58.12    | 16.55  | 62.85  |\n",
    "| ASC     | 18.74    | 67.58    | 21.40  | 72.48  |\n",
    "| MDPC    | 32.56    | 93.13    | 37.86  | 98.07  |"
   ]
  }
 ],
 "metadata": {
  "kernelspec": {
   "display_name": "Python 3 (ipykernel)",
   "language": "python",
   "name": "python3"
  },
  "language_info": {
   "codemirror_mode": {
    "name": "ipython",
    "version": 3
   },
   "file_extension": ".py",
   "mimetype": "text/x-python",
   "name": "python",
   "nbconvert_exporter": "python",
   "pygments_lexer": "ipython3",
   "version": "3.10.16"
  }
 },
 "nbformat": 4,
 "nbformat_minor": 5
}
